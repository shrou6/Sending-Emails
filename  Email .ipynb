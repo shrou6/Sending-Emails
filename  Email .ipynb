{
 "cells": [
  {
   "cell_type": "markdown",
   "id": "9bc53903",
   "metadata": {},
   "source": [
    "###  Read Excel file"
   ]
  },
  {
   "cell_type": "code",
   "execution_count": 2,
   "id": "152d2c43",
   "metadata": {},
   "outputs": [
    {
     "name": "stdout",
     "output_type": "stream",
     "text": [
      "      Name                        Email\n",
      "0   Shrouk      shroukadel932@gmail.com\n",
      "1     Heba      hebaemara2003@gmail.com\n",
      "2    Rahma       rahmanasr864@gmail.com\n",
      "3    Afnan       afnansaad445@gmail.com\n",
      "4     Dina       tarekdina712@gmail.com\n",
      "5     Alaa    alaaahmedeid138@gmail.com\n",
      "6  Nourhan  norhanelnaggar196@gmail.com\n"
     ]
    }
   ],
   "source": [
    "import pandas as pd \n",
    "\n",
    "df=pd.read_excel(\"Emails.xlsx\")\n",
    "print(df)"
   ]
  },
  {
   "cell_type": "markdown",
   "id": "91b52518",
   "metadata": {},
   "source": [
    "### Read Email column"
   ]
  },
  {
   "cell_type": "code",
   "execution_count": 4,
   "id": "d8e8fe16",
   "metadata": {},
   "outputs": [
    {
     "name": "stdout",
     "output_type": "stream",
     "text": [
      "shroukadel932@gmail.com\n",
      "hebaemara2003@gmail.com\n",
      "rahmanasr864@gmail.com\n",
      "afnansaad445@gmail.com\n",
      "tarekdina712@gmail.com\n",
      "alaaahmedeid138@gmail.com\n",
      "norhanelnaggar196@gmail.com\n"
     ]
    }
   ],
   "source": [
    "for i in df[\"Email\"]:\n",
    "    print(i)\n"
   ]
  },
  {
   "cell_type": "markdown",
   "id": "4d7310c0",
   "metadata": {},
   "source": [
    "- import smtplib\n",
    "- import EmailMessage"
   ]
  },
  {
   "cell_type": "code",
   "execution_count": 9,
   "id": "e49b6f9a",
   "metadata": {},
   "outputs": [],
   "source": [
    "import smtplib\n",
    "from email.message import EmailMessage\n",
    "\n",
    "\n",
    "for email in df[\"Email\"]:\n",
    "    \n",
    "    msg=EmailMessage()\n",
    "    msg[\"Subject\"]=\"summer Training\"\n",
    "    msg[\"From\"]=\"shroukadel297@gmail.com\"\n",
    "    msg['To']= email\n",
    "    msg.set_content('''AWSمنحة من اكبر المنح حاليا لتعلم مجال الذكاء الاصطناعي من \\n منحة بشكل فردي لكل واحد تدريب ومتابعة من المتخصصين \\n   AI و ML 💪🧡 المنحة هتتعلم \n",
    "    Udacity  التقديم متاح دلوقتي من موقع   \n",
    "\n",
    "    Udacity:\n",
    "    https://lnkd.in/d4dbNSn2\n",
    "    https://t.me/mog7azi\n",
    "\n",
    "                    ''')\n",
    "    with smtplib.SMTP_SSL('smtp.gmail.com', 465) as smtp:\n",
    "        smtp.login('shroukadel297@gmail.com', \"your App password \")\n",
    "        smtp.send_message(msg)\n",
    "\n",
    "\n",
    "    \n",
    "    \n"
   ]
  }
 ],
 "metadata": {
  "kernelspec": {
   "display_name": "Python 3 (ipykernel)",
   "language": "python",
   "name": "python3"
  },
  "language_info": {
   "codemirror_mode": {
    "name": "ipython",
    "version": 3
   },
   "file_extension": ".py",
   "mimetype": "text/x-python",
   "name": "python",
   "nbconvert_exporter": "python",
   "pygments_lexer": "ipython3",
   "version": "3.9.13"
  }
 },
 "nbformat": 4,
 "nbformat_minor": 5
}
